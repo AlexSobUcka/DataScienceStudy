{
 "cells": [
  {
   "cell_type": "code",
   "execution_count": 1,
   "id": "d579d169",
   "metadata": {},
   "outputs": [],
   "source": [
    "import numpy as np"
   ]
  },
  {
   "cell_type": "markdown",
   "id": "a6f2a522",
   "metadata": {},
   "source": [
    "### матрица передач"
   ]
  },
  {
   "cell_type": "code",
   "execution_count": 2,
   "id": "df248f2d",
   "metadata": {},
   "outputs": [],
   "source": [
    "A = np.array([[0, 0, 1, 0, 0], [0, 0, 1, 0, 0], [0, 0, 0, 1, 0],\n",
    "              [0, 0, 0, 0, 0.6], [0, 0, 0, 0, 0]])"
   ]
  },
  {
   "cell_type": "markdown",
   "id": "75148f01",
   "metadata": {},
   "source": [
    "### вектор допустимого количества заявок в узлах"
   ]
  },
  {
   "cell_type": "code",
   "execution_count": 3,
   "id": "fe22e889",
   "metadata": {},
   "outputs": [],
   "source": [
    "R = np.array([np.Inf, np.Inf, 20, np.Inf, np.Inf])"
   ]
  },
  {
   "cell_type": "markdown",
   "id": "ea041eae",
   "metadata": {},
   "source": [
    "### вектор интенсивности обслуживания заявок"
   ]
  },
  {
   "cell_type": "code",
   "execution_count": 4,
   "id": "233354ee",
   "metadata": {},
   "outputs": [],
   "source": [
    "v = np.array([0.5, 0.3, 0.2, 2, 0.1])"
   ]
  },
  {
   "cell_type": "markdown",
   "id": "78a8b3de",
   "metadata": {},
   "source": [
    "### вектор количественного состава сети"
   ]
  },
  {
   "cell_type": "code",
   "execution_count": 5,
   "id": "ee10fff8",
   "metadata": {},
   "outputs": [],
   "source": [
    "m = np.array([3, 5, 10, 1, 20])"
   ]
  },
  {
   "cell_type": "markdown",
   "id": "37a54d9b",
   "metadata": {},
   "source": [
    "### вектор интенсивности внешнего входного потока"
   ]
  },
  {
   "cell_type": "code",
   "execution_count": 6,
   "id": "251069a2",
   "metadata": {},
   "outputs": [],
   "source": [
    "y = np.array([12, 15, 0, 0, 0])"
   ]
  },
  {
   "cell_type": "code",
   "execution_count": 7,
   "id": "7baa989a",
   "metadata": {},
   "outputs": [
    {
     "name": "stdout",
     "output_type": "stream",
     "text": [
      "A =\n",
      "[[0.  0.  1.  0.  0. ]\n",
      " [0.  0.  1.  0.  0. ]\n",
      " [0.  0.  0.  1.  0. ]\n",
      " [0.  0.  0.  0.  0.6]\n",
      " [0.  0.  0.  0.  0. ]]\n",
      "R =\n",
      "[inf inf 20. inf inf]\n",
      "y =\n",
      "[12 15  0  0  0]\n",
      "m =\n",
      "[ 3  5 10  1 20]\n",
      "v =\n",
      "[0.5 0.3 0.2 2.  0.1]\n"
     ]
    }
   ],
   "source": [
    "print('A =', A, 'R =', R, 'y =', y,\n",
    "      'm =', m, 'v =', v,\n",
    "      sep='\\n')"
   ]
  },
  {
   "cell_type": "markdown",
   "id": "f9995acf",
   "metadata": {},
   "source": [
    "### вектор интенсивности входного потока"
   ]
  },
  {
   "cell_type": "code",
   "execution_count": 8,
   "id": "61dc9943",
   "metadata": {},
   "outputs": [
    {
     "name": "stdout",
     "output_type": "stream",
     "text": [
      "[12.  15.  27.  27.  16.2]\n"
     ]
    }
   ],
   "source": [
    "Y = y\n",
    "TA = A.transpose()\n",
    "\n",
    "for i in range(len(Y)):\n",
    "    temp_array = np.zeros(5)\n",
    "    temp_array[i] = sum(TA[:][i]*Y)\n",
    "    Y = Y + temp_array\n",
    "\n",
    "print(Y)"
   ]
  },
  {
   "cell_type": "markdown",
   "id": "c4dbd98c",
   "metadata": {},
   "source": [
    "### вектор загрузки узлов"
   ]
  },
  {
   "cell_type": "code",
   "execution_count": 9,
   "id": "abf1096c",
   "metadata": {},
   "outputs": [
    {
     "name": "stdout",
     "output_type": "stream",
     "text": [
      "[ 8.  10.  13.5 13.5  8.1]\n"
     ]
    }
   ],
   "source": [
    "temp_array = np.zeros(5)\n",
    "\n",
    "for i in range(len(Y)):\n",
    "    temp_array[i] = Y[i]/(m[i]*v[i])\n",
    "\n",
    "print(temp_array)"
   ]
  },
  {
   "cell_type": "markdown",
   "id": "4db90ca9",
   "metadata": {},
   "source": [
    "### эксперименты"
   ]
  },
  {
   "cell_type": "code",
   "execution_count": null,
   "id": "93993e14",
   "metadata": {},
   "outputs": [],
   "source": []
  }
 ],
 "metadata": {
  "kernelspec": {
   "display_name": "Python 3",
   "language": "python",
   "name": "python3"
  },
  "language_info": {
   "codemirror_mode": {
    "name": "ipython",
    "version": 3
   },
   "file_extension": ".py",
   "mimetype": "text/x-python",
   "name": "python",
   "nbconvert_exporter": "python",
   "pygments_lexer": "ipython3",
   "version": "3.8.8"
  }
 },
 "nbformat": 4,
 "nbformat_minor": 5
}
